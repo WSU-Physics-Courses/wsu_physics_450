{
  "nbformat": 4,
  "nbformat_minor": 0,
  "metadata": {
    "colab": {
      "name": "Discretization.ipynb",
      "version": "0.3.2",
      "provenance": [],
      "collapsed_sections": [],
      "include_colab_link": true
    },
    "kernelspec": {
      "name": "python3",
      "display_name": "Python 3"
    }
  },
  "cells": [
    {
      "cell_type": "markdown",
      "metadata": {
        "id": "view-in-github",
        "colab_type": "text"
      },
      "source": [
        "[View in Colaboratory](https://colab.research.google.com/github/mforbes/wsu_physics_450/blob/master/Notebooks/Discretization.ipynb)"
      ]
    },
    {
      "metadata": {
        "id": "xiufHfVraU73",
        "colab_type": "text"
      },
      "cell_type": "markdown",
      "source": [
        "# Contents"
      ]
    },
    {
      "metadata": {
        "id": "2LIs7KlSaOSE",
        "colab_type": "toc"
      },
      "cell_type": "markdown",
      "source": [
        ">[Discretization and Fourier Transforms](#scrollTo=Uym8J8NJfNRA)\n",
        "\n",
        ">[Schrödinger Equation](#scrollTo=2hx6tydFGRvk)\n",
        "\n",
        ">>[Finite set of Energy Eigenstates](#scrollTo=fvR6NXsaJ_vF)\n",
        "\n",
        ">>[General Finite Basis](#scrollTo=JXCBzm5ZKyMH)\n",
        "\n",
        ">[Finite Differences](#scrollTo=d3yUHA5jNTtL)\n",
        "\n",
        ">>[Boundary Conditions](#scrollTo=I1KsX2CMNYfb)\n",
        "\n",
        ">>[Example: Harmonic Oscillator](#scrollTo=Hljc6P6gWR0K)\n",
        "\n",
        ">>[Basis States (Incomplete)](#scrollTo=KRQNAA6sU5-9)\n",
        "\n",
        ">[Fourier Methods (Spectral Methods)](#scrollTo=e9S9CD9tNhyS)\n",
        "\n",
        ">>>[Numerical Normalization](#scrollTo=GV1UZ4Y4hBWv)\n",
        "\n",
        ">>>[Alternative Normalization](#scrollTo=R--87Ng-qdft)\n",
        "\n",
        ">>>[Code](#scrollTo=DOGtx4ZoufOy)\n",
        "\n"
      ]
    },
    {
      "metadata": {
        "id": "Uym8J8NJfNRA",
        "colab_type": "text"
      },
      "cell_type": "markdown",
      "source": [
        "# Discretization and Fourier Transforms\n",
        "\n",
        "*This cell also defines some math macros:*\n",
        "\n",
        "$$\n",
        "  \\newcommand{\\abs}[1]{\\lvert#1\\rvert}\n",
        "  \\newcommand{\\ket}[1]{\\lvert#1\\rangle}\n",
        "  \\newcommand{\\bra}[1]{\\langle#1\\rvert}\n",
        "  \\newcommand{\\braket}[1]{\\langle#1\\rangle}  \n",
        "  \\newcommand{\\Ket}[1]{\\left\\lvert#1\\right\\rangle}\n",
        "  \\newcommand{\\Bra}[1]{\\left\\langle#1\\right\\rvert}\n",
        "  \\newcommand{\\Braket}[1]{\\left\\langle#1\\right\\rangle}\n",
        "  \\newcommand{\\op}[1]{\\hat{\\boldsymbol{#1}}}\n",
        "  \\newcommand{\\mat}[1]{\\boldsymbol{#1}}\n",
        "  \\newcommand{\\I}{\\mathrm{i}}\n",
        "  \\newcommand{\\d}{\\mathrm{d}}\n",
        "  \\newcommand{\\floor}[1]{\\lfloor\\!#1\\!\\rfloor}\n",
        "  \\newcommand{\\Floor}[1]{\\left\\lfloor\\!#1\\!\\right\\rfloor}  \n",
        "$$\n",
        "* `\\bra{x}`=$\\bra{x}$\n",
        "* `\\ket{x}`=$\\ket{x}$\n",
        "* `\\braket{x|k}`=$\\braket{x|k}$\n",
        "* `\\op{p}`=$\\op{p}$\n",
        "* `\\Floor{\\frac{N}{2}}`=$\\Floor{\\frac{N}{2}}$\n",
        "* etc.\n",
        "\n",
        "Some notations:\n",
        "\n",
        "* Abstract operators are bold and notated with a hat: $\\op{X}$, $\\op{P}$, $\\op{H}$, etc.\n",
        "* Abstract state vectors are denoted with kets: $\\ket{\\psi}$.\n",
        "* Matrices are denoted without a hat (but still bold): $\\mat{H}$.  These must be expressed in some sort of basis which will be made explicit by context.\n",
        "* The explicit elements of a matrix will be expressed using square brackets: $[\\mat{H}]_{ij}$.  Thus:\n",
        "\n",
        "  $$\n",
        "    \\braket{m|\\op{H}|n} = [\\mat{H}]_{mn} = H_{mn}.\n",
        "  $$\n",
        "  \n",
        "  The bracket notation is useful when expressing the indices of a more complex expression, for example $[\\mat{A}\\cdot\\mat{B}]_{ij} = \\sum_{a}A_{ia}B_{aj} \\equiv A_{ia}B_{aj}$.  Sometimes, when obvious, the summation of repeated indices may be omitted as shown.  (This is related to the [Einstein summation convention](https://en.wikipedia.org/wiki/Einstein_notation), though we shall not distinguish between covariant (upper) and contravariant (lower) indices.)\n"
      ]
    },
    {
      "metadata": {
        "id": "2hx6tydFGRvk",
        "colab_type": "text"
      },
      "cell_type": "markdown",
      "source": [
        "# Schrödinger Equation"
      ]
    },
    {
      "metadata": {
        "id": "onMExbJYGW0C",
        "colab_type": "text"
      },
      "cell_type": "markdown",
      "source": [
        "To render the Schödinger equation finite, we must discretize our solutions so that the Hilbert space becomes finite dimensional.  There is no unique way to do this and you must choose a method that suits your application.\n",
        "\n",
        "The general strategy is to choose some finite set of basis states $\\ket{n}$ and use these to express the Hamiltonian.  Some possible choices include:"
      ]
    },
    {
      "metadata": {
        "id": "fvR6NXsaJ_vF",
        "colab_type": "text"
      },
      "cell_type": "markdown",
      "source": [
        "## Finite set of Energy Eigenstates\n",
        "\n",
        "If you Hamiltonian is time-independent and has a discrete spectrum (the energy eigenvalues $E_n$ are enumerable by an integer index $n$ for example), then you might choose as a basis the lowest $N$ eigenstates of the Hamiltonian $\\op{H}\\ket{n} = E_n\\ket{n}$.  The time dependent problem can be solved by expressing the initial state in terms of these through a finite set of coefficients $\\psi_n = \\braket{n|\\psi}$:\n",
        "\n",
        "$$\n",
        "    \\ket{\\psi(t)} = \\sum_{n=0}^{N-1} e^{E_n (t-t_0)/\\I\\hbar}\\ket{n}\\overbrace{\\braket{n|\\psi(t_0)}}^{\\psi_n}.\n",
        "$$\n",
        "  \n",
        "Here the finite Hilbert space $H_N$ is spanned by the basis of $N$ energy eigenstates $\\{\\left.\\ket{n}\\right|_{n=0}^{N-1}\\}$ and has dimension $N$.  The  errors induced by this approximation can be assessed by seeing how well the original state can be expressed in $H_N$.  This can be computed using the following projection operator which projects the original state into the finite-dimensional Hilbert space $H_N$:\n",
        "  \n",
        "$$\n",
        "    \\op{P}_N = \\sum_{n=0}^{N-1} \\ket{n} \\bra{n}, \\qquad\n",
        "    \\ket{\\psi_N} = \\op{P}_N\\ket{\\psi}\n",
        "$$\n",
        "  \n",
        "Errors in this approximation will be proportional to the difference between the projection $\\ket{\\psi_N}$ and the original state:\n",
        "  \n",
        "$$\n",
        "    \\braket{\\psi|\\psi_N}-\\braket{\\psi|\\psi}.\n",
        "$$\n",
        "  \n",
        "If the original state $\\ket{\\psi}$ is well represented by the basis, this will be a good approximation.  (If the initial state lies completely in $H_N$, then the method is essentially exact.)\n",
        "  \n",
        "This is the approach used in the notebook [Particle in a Box](Particle%20in%20a%2Box.ipynb) notebook.\n",
        "\n",
        "This is generally an excellent strategy if feasible, but has some drawbacks that may make it infeasible:\n",
        "\n",
        "* Large errors if the initial state does not lie in the finite Hilbert space $H_N$.\n",
        "* Computing the overlap coefficients $\\ket{n|\\psi}$ might be expensive and/or error prone.\n",
        "* Does not work if one cannot express the energy eigenstates $\\ket{n}$.\n",
        "* Does not work if the Hamiltonian is time-dependent."
      ]
    },
    {
      "metadata": {
        "id": "JXCBzm5ZKyMH",
        "colab_type": "text"
      },
      "cell_type": "markdown",
      "source": [
        "## General Finite Basis\n",
        "\n",
        "The previous method is related to a general approach.  Simply choose some finite set of $N$ basis states $\\ket{n}$, regardless of whether or not they are the energy eigenstates, and then re-express the Schrödinger equation in this basis.  Again, one has the same projection operator:\n",
        "\n",
        "$$\n",
        "    \\op{P}_N = \\sum_{n=0}^{N-1} \\ket{n} \\bra{n}.\n",
        "$$\n",
        "\n",
        "The strategy is to express the Hamiltonian as a matrix in this basis, and then solve the problem as a general linear algrabra problem:\n",
        "\n",
        "$$\n",
        "  H_{mn} = \\braket{m|\\op{H}(t)|n}, \\\\\n",
        "  \\I\\hbar\\dot{\\psi}_n(t) = \\sum_{m=0}^{N-1}H_{mn}(t)\\psi_{m}(t).\n",
        "$$\n",
        "\n",
        "Everything is now finite.  Solving the time-independent Schrödinger equation amounts to finding the eigenvalues and eigenvectors of the matrix $\\mat{H}$ which has coefficients $[\\mat{H}]_{mn}= H_{mn}$.  Solving the time-dependent eigenvalue problem amounts to solving the $N$ coupled first-order ordinary differential equations (ODEs).  Good numerical methods exist for both of these tasks.\n",
        "\n",
        "This is a completely general approach and all remaining discussions will be specializations of this to specific basis sets, however, there are still some potential disadvantages.\n",
        "\n",
        "* As before, if the initial state does not lie in the restricted subspace spanned by the basis, one will incur truncation errors.\n",
        "* An additional complication is that, even if the original state lies in the subspace, the original Hamiltonian might have taken it out of the subspace.  This will also introduce errors.\n",
        "* Computing the matrix elements $H_{mn} = \\braket{m|\\op{H}|n}$ might be expensive or error-prone.\n",
        "* Performing the matrix multiplication $\\mat{H}\\cdot\\vec{\\psi}$ needed to solve the Schrödinger equation might be expensive."
      ]
    },
    {
      "metadata": {
        "id": "d3yUHA5jNTtL",
        "colab_type": "text"
      },
      "cell_type": "markdown",
      "source": [
        "# Finite Differences"
      ]
    },
    {
      "metadata": {
        "id": "I1KsX2CMNYfb",
        "colab_type": "text"
      },
      "cell_type": "markdown",
      "source": [
        "A simple approach is to replace the derivative operators in the Hamiltonian with finite difference approximations.  We first define the approximation, then consider the basis that this represents.\n",
        "\n",
        "To this end, we defined our wavefunctions as a set of $N$ numbers representing the value of the weavefunction at a pre-defined set of lattice points (abscissa) $x_n$.  For simplicity, we take the spacing between these points $\\d{x} = x_{n+1} - x_{n}$ to be constant, though one can generalize.  The $N$ points will thus represent the wavefunction in a box of length $L = N\\d{x}$ which we take to run from $-L/2$ to $L/2$ with the following lattice points:\n",
        "\n",
        "$$\n",
        "  x_n = \\left(n\\d{x} - \\frac{L}{2}\\right)_{n=0}^{N-1}, \\qquad \\d{x} = \\frac{L}{N}.\n",
        "$$\n",
        "\n",
        "The wavefunctions will now be represented by a set of $N$ coefficients:\n",
        "\n",
        "$$\n",
        "  \\psi_n(t) = \\psi(x_n, t).\n",
        "$$\n",
        "\n",
        "We must now express the Laplacian which appears in the Hamiltonian as a matrix.  To do this, we use the following finite-difference approximation of the derivative:\n",
        "\n",
        "$$\n",
        "  \\psi''_n \\approx \\frac{\\psi_{n+1} - 2\\psi_{n} + \\psi_{n-1}}{\\d{x}^2} + O\\left(\\d{x}^2\\right)\n",
        "$$\n",
        "\n",
        "The error term can be estimated from the Taylor expansion:\n",
        "\n",
        "$$\n",
        "  \\psi(x\\pm h) = \\psi(x) \\pm h\\psi'(x) + \\frac{h^2}{2!}\\psi''(x)\n",
        "  \\pm \\frac{h^3}{3!}\\psi''(x) + \\frac{h^4}{4!}\\psi'''(x) + \\cdots.\n",
        "$$\n",
        "\n",
        "In this symmetric form, all terms cancel until the fourth order term.\n",
        "\n",
        "The kinetic energy term of the Hamiltonian can thus be represented by a band-diagonal matrix:\n",
        "\n",
        "$$\n",
        "  \\frac{\\op{P}^2}{2m} \\rightarrow \\frac{-\\hbar^2}{2m\\;\\d{x}^2}\n",
        "  \\begin{pmatrix}\n",
        "    \\smash{\\ddots} & \\smash{\\ddots}\\\\\n",
        "    \\smash{\\ddots} & -2 & 1\\\\\n",
        "    & 1 &  -2  & 1\\\\\n",
        "    && 1 &  -2  & 1\\\\\n",
        "    &&& 1 &  -2  & \\smash{\\ddots}\\\\\n",
        "    &&&& \\smash{\\ddots} &  \\smash{\\ddots}\n",
        "  \\end{pmatrix}, \\qquad\n",
        "  \\op{V} \\rightarrow\n",
        "  \\begin{pmatrix}\n",
        "   \\ddots\\\\\n",
        "    & V(x_{n-1})\\\\\n",
        "    && V(x_{n})\\\\\n",
        "    &&& V(x_{n+1})\\\\\n",
        "    &&&& \\ddots\n",
        "  \\end{pmatrix}.\n",
        "$$\n",
        "\n",
        "The potential is represented by a diagonal matrix evaluated at the abscissa.\n",
        "\n",
        "## Boundary Conditions\n",
        "\n",
        "To complete this description, one needs to specify what to do at the start and end of the matrix for the kinetic energy.  These boundary conditions will define the nature of the solutions.  Two easy-to-implement conditions are:\n",
        "\n",
        "* **Dirichlet**: With this formulation, it is most natural to implement [Dirichlet boundary conditions](https://en.wikipedia.org/wiki/Dirichlet_boundary_condition):\n",
        "\n",
        "  $$\n",
        "    \\begin{gathered}\n",
        "      \\psi(x_{-1}) = \\psi(x_{N}) = 0, \\\\\n",
        "      L = (N+1)\\d{x},\n",
        "    \\end{gathered}\n",
        "    \\qquad\n",
        "    \\begin{pmatrix}\n",
        "      -2 & 1\\\\\n",
        "      1 &-2 & \\smash{\\ddots}\\\\\n",
        "      & \\smash{\\ddots} & \\smash{\\ddots} & \\smash{\\ddots}\\\\\n",
        "      && \\smash{\\ddots} & -2 & 1\\\\\n",
        "      &&& 1 & -2\n",
        "    \\end{pmatrix}\n",
        "  $$\n",
        "  \n",
        "  This discretization is equivalent to assuming that $\\psi(x_{-1}) = \\psi(x_{N}) = 0$ and will enforce the boundary conditions that the solutions go smoothly to zero at the edges of the box.  This is equivalent to placing the entire system in an infinite box with length $L$.\n",
        "\n",
        "* **Periodic**: One can also easily implement [periodic boundary conditions]()\n",
        "\n",
        "  $$\n",
        "    \\begin{gathered}\n",
        "      \\psi(x_{-1}) = \\psi(x_{N-1}), \\\\\n",
        "      \\psi(x_{N}) = \\psi(x_{0}), \\\\\n",
        "      L = N\\d{x},\n",
        "    \\end{gathered} \\qquad\n",
        "    \\begin{pmatrix}\n",
        "      -2 & 1 & & & 1\\\\\n",
        "      1 &-2 & \\smash{\\ddots}\\\\\n",
        "      & \\smash{\\ddots} & \\smash{\\ddots} & \\smash{\\ddots}\\\\\n",
        "      && \\smash{\\ddots} & -2 & 1\\\\\n",
        "     1 &&& 1 & -2\\\\\n",
        "    \\end{pmatrix}\n",
        "  $$\n",
        "  \n",
        "  Here we include entries in the upper-right and lower-left corners.  These entries are consistent with identifying $\\psi(x_{-1}) = \\psi(x_{N-1})$ and $\\psi(x_{N}) = \\psi(x_{0})$.  In other words, assuming that the box is periodic and wraps around.  Solutions here will smoothly change as one goes out of the box to the right and returns from the left.\n",
        "  \n",
        "* **Neumann**:  One can implement [Neuman boundary conditions](https://en.wikipedia.org/wiki/Neumann_boundary_condition) $\\psi'(x_{0}) = \\psi'(x_{N}) = 0$, but the resulting approximation requires care to keep the Hamiltonian both Hermitian and accurate to order $O(\\d{x}^2)$.\n",
        "\n",
        "The simplest solution of making the top left and bottom right entries $-1$ instead of $-2$ works.  This works and maintains the Hermiticity of the matrix, but requires a careful interpretation of the Neumann boundary condition which is valid *in between* the lattice points:\n",
        "\n",
        "\n",
        "\n",
        "but reduces the accuracy to $O(\\d{x})$.  Order $O(\\d{x}^2)$ methods exist but break the explicit Hermiticity of the matrix which makes numerically finding eigenvalues etc. much more difficult.  Here are these two options:\n",
        "\n",
        "  $$\n",
        "    \\begin{gathered}\n",
        "      \\psi'(x_{-1/2}) = \\psi'(x_{N-1/2}) = 0, \\\\\n",
        "      L = N\\d{x},\n",
        "    \\end{gathered}\\qquad      \n",
        "    \\begin{pmatrix}\n",
        "      -1 & 1\\\\\n",
        "      1 &-2 & \\smash{\\ddots}\\\\\n",
        "      & \\smash{\\ddots} & \\smash{\\ddots} & \\smash{\\ddots}\\\\\n",
        "      && \\smash{\\ddots} & -2 & 1\\\\\n",
        "      &&& 1 & -1\\\\\n",
        "    \\end{pmatrix}.\n",
        "  $$\n",
        "  \n",
        "  An alternative allows one to interpret the condition at the lattice points, but renders the Hamiltonian matrix non-Hermitian:\n",
        "  \n",
        "  $$\n",
        "    \\begin{gathered}\n",
        "      \\psi(x_{-1}) = \\psi(x_{N}) = 0,\\\\\n",
        "      L = (N+1)\\d{x},\n",
        "    \\end{gathered}\\qquad\n",
        "    \\overbrace{\n",
        "    \\begin{pmatrix}\n",
        "      -\\frac{2}{3} & \\frac{2}{3}\\\\\n",
        "      1 &-2 & \\smash{\\ddots}\\\\\n",
        "      & \\smash{\\ddots} & \\smash{\\ddots} & \\smash{\\ddots}\\\\\n",
        "      && \\smash{\\ddots} & -2 & 1\\\\\n",
        "      &&& \\frac{2}{3} & -\\frac{2}{3}\\\\\n",
        "    \\end{pmatrix}}^{\\mat{K}\\neq\\mat{K}^\\dagger}.    \n",
        "  $$"
      ]
    },
    {
      "metadata": {
        "id": "Hljc6P6gWR0K",
        "colab_type": "text"
      },
      "cell_type": "markdown",
      "source": [
        "## Example: Harmonic Oscillator"
      ]
    },
    {
      "metadata": {
        "id": "Ko3XZ7vpWUtJ",
        "colab_type": "text"
      },
      "cell_type": "markdown",
      "source": [
        "Here we implement numerically the solution to the Harmonic Oscillator problem using Dirichlet boundary conditions:\n",
        "\n",
        "$$\n",
        "  \\op{H} = \\frac{\\op{P}^2}{2m} + \\frac{m\\omega^2 \\op{X}^2}{2}.\n",
        "$$"
      ]
    },
    {
      "metadata": {
        "id": "3dWRPtPwWQfR",
        "colab_type": "code",
        "colab": {
          "base_uri": "https://localhost:8080/",
          "height": 313
        },
        "outputId": "1f63dd06-441e-4d5f-c703-0c19247e2962"
      },
      "cell_type": "code",
      "source": [
        "%pylab inline --no-import-all\n",
        "hbar = m = omega = 1\n",
        "\n",
        "def get_x_H(N=128, L=20.0):\n",
        "  dx = L/N\n",
        "  n = np.arange(N)\n",
        "  x = n*dx - L/2\n",
        "  D2 = (-2*np.diag(np.ones(N))      # Finite difference matrix: Dirichlet\n",
        "        + np.diag(np.ones(N-1), 1) \n",
        "        + np.diag(np.ones(N-1), -1)\n",
        "       )/dx**2\n",
        "  K = -hbar**2*D2/2/m\n",
        "  V = m*omega**2*np.diag(x**2)/2\n",
        "  H = K + V\n",
        "  assert np.allclose(H, H.conj().T)\n",
        "  return x, H\n",
        "\n",
        "x, H = get_x_H(N=128)\n",
        "n = np.arange(len(x))\n",
        "En_exact = hbar*omega*n + 0.5\n",
        "En = np.linalg.eigvalsh(H)\n",
        "plt.semilogy(n[:100], abs((En/En_exact-1)[:100]))\n",
        "plt.xlabel('$n$')\n",
        "plt.ylabel('Relative error in $E_n$')"
      ],
      "execution_count": 1,
      "outputs": [
        {
          "output_type": "stream",
          "text": [
            "Populating the interactive namespace from numpy and matplotlib\n"
          ],
          "name": "stdout"
        },
        {
          "output_type": "execute_result",
          "data": {
            "text/plain": [
              "Text(0,0.5,'Relative error in $E_n$')"
            ]
          },
          "metadata": {
            "tags": []
          },
          "execution_count": 1
        },
        {
          "output_type": "display_data",
          "data": {
            "image/png": "[encoded data removed]",
            "text/plain": [
              "<matplotlib.figure.Figure at 0x7fcbf8fa6f28>"
            ]
          },
          "metadata": {
            "tags": []
          }
        }
      ]
    },
    {
      "metadata": {
        "id": "aM9UjgrRYWfB",
        "colab_type": "text"
      },
      "cell_type": "markdown",
      "source": [
        "Let's check the scaling of the error in the ground state energy:"
      ]
    },
    {
      "metadata": {
        "id": "IS19vIbXYF6a",
        "colab_type": "code",
        "colab": {
          "base_uri": "https://localhost:8080/",
          "height": 300
        },
        "outputId": "aafb8f7f-8fab-4d03-93d7-13bb4dd71f0e"
      },
      "cell_type": "code",
      "source": [
        "Ns = 2**np.arange(3, 12)\n",
        "errs = []\n",
        "for N in Ns:\n",
        "  x, H = get_x_H(N=N)\n",
        "  errs.append(np.linalg.eigvalsh(H)[:5]/En_exact[:5] - 1)\n",
        " \n",
        "for n, _ in enumerate(errs[0]):\n",
        "  plt.loglog(Ns, np.abs(errs)[:, n], '-o', label=f\"$E_{n}$\")\n",
        "plt.loglog(Ns, 20./Ns**2, ':', label=\"$20/N^2$\")\n",
        "plt.xlabel('N')\n",
        "plt.ylabel('Rel. Err. in $E_n$')\n",
        "plt.legend()"
      ],
      "execution_count": 2,
      "outputs": [
        {
          "output_type": "execute_result",
          "data": {
            "text/plain": [
              "<matplotlib.legend.Legend at 0x7fcbe95b90b8>"
            ]
          },
          "metadata": {
            "tags": []
          },
          "execution_count": 2
        },
        {
          "output_type": "display_data",
          "data": {
            "image/png": "[encoded data removed]",
            "text/plain": [
              "<matplotlib.figure.Figure at 0x7fcbe96804e0>"
            ]
          },
          "metadata": {
            "tags": []
          }
        }
      ]
    },
    {
      "metadata": {
        "id": "UO_U5l64Uv3J",
        "colab_type": "text"
      },
      "cell_type": "markdown",
      "source": [
        "From this we see that indeed, the errors scale as $\\d{x}^2 \\propto N^{-2}$ and that to get 5 digits of precision we need $N>2000$ although for 1% accuracy in the energies, we can have $N\\approx 100$."
      ]
    },
    {
      "metadata": {
        "id": "44QyvYxuaJ13",
        "colab_type": "code",
        "colab": {
          "base_uri": "https://localhost:8080/",
          "height": 265
        },
        "cellView": "both",
        "outputId": "48e4f122-f132-4b47-8e65-8325f57fe2df"
      },
      "cell_type": "code",
      "source": [
        "#@title Eigenstates of the Harmonic Oscillator { run: \"auto\", vertical-output: true }\n",
        "n_max = 5 #@param {type:\"slider\", min:5, max:30, step:1}\n",
        "\n",
        "x, H = get_x_H(N=1000)\n",
        "V = m*omega**2/2*x**2\n",
        "\n",
        "En, psi_n = np.linalg.eigh(H)\n",
        "plt.plot(x, V)\n",
        "for n in range(n_max):\n",
        "  E = En[n]\n",
        "  psi = psi_n[:, n]\n",
        "  l, = plt.plot(x, E + 0.4*hbar*omega*psi/abs(psi).max())\n",
        "  plt.axhline(E, ls='--', c=l.get_c())\n",
        "\n",
        "plt.ylim(0, En[n_max]);"
      ],
      "execution_count": 7,
      "outputs": [
        {
          "output_type": "display_data",
          "data": {
            "image/png": "[encoded data removed]",
            "text/plain": [
              "<matplotlib.figure.Figure at 0x7fcbe965fba8>"
            ]
          },
          "metadata": {
            "tags": []
          }
        }
      ]
    },
    {
      "metadata": {
        "id": "KRQNAA6sU5-9",
        "colab_type": "text"
      },
      "cell_type": "markdown",
      "source": [
        "\n",
        "## Basis States (Incomplete)"
      ]
    },
    {
      "metadata": {
        "id": "-9GLBkHQU8X8",
        "colab_type": "text"
      },
      "cell_type": "markdown",
      "source": [
        "As we mentioned earlier, the finite difference approach is equivalent to using a set of basis states, but exactly what these basis states are depends on the discretization approach.\n"
      ]
    },
    {
      "metadata": {
        "id": "e9S9CD9tNhyS",
        "colab_type": "text"
      },
      "cell_type": "markdown",
      "source": [
        "# Fourier Methods (Spectral Methods)"
      ]
    },
    {
      "metadata": {
        "id": "_9UNigSjaZ8o",
        "colab_type": "text"
      },
      "cell_type": "markdown",
      "source": [
        "As demonstrated above, the error incurred by using a finite-difference approximation scales as the lattice spacing to some power: $\\d{x}^2$ in the simple form we used above.  To achive high precision results thus requires a very small lattice spacing, and therefore a large number of points.\n",
        "\n",
        "Spectral methods use a basis of plane-waves or sines and cosines instead.  This requires representing the problem in a periodic box, but can significantly improve the accuracy, which becomes exponential if the potential is an analytic function (infinitely differentiable for example).\n",
        "\n",
        "For a periodic box of length $L$ we have the following completeness relation (for continuous functions):\n",
        "\n",
        "$$\n",
        "  \\op{1} = \\int_{0}^{L} \\d{x} \\ket{x}\\bra{x}.\n",
        "$$\n",
        "\n",
        "use the following basis set $\\ket{k_n}$ for integer $n$:\n",
        "\n",
        "$$\n",
        "  \\braket{x|k_n} = \\frac{1}{\\sqrt{L}} e^{\\I k_n x}, \\qquad\n",
        "  k_n = \\frac{2\\pi n}{L}.\n",
        "$$\n",
        "\n",
        "These plane-wave states are orthonormal:\n",
        "\n",
        "$$\n",
        "  \\braket{k_m|k_n} = \\int_{0}^{L}\\d{x} \\braket{k_m|x}\\braket{x|k_n}\n",
        "  = \\frac{1}{L} \\int_{0}^{L}\\d{x} e^{\\I x(k_n - k_m)}\n",
        "  = \\frac{1}{L}\\frac{e^{\\overbrace{\\I L(k_n - k_m)}^{2\\pi\\I(n-m)}} - 1}{\\I(k_n-k_m)}\n",
        "  = \\delta_{mn}.\n",
        "$$\n",
        "\n",
        "There are still an infinite number of these plane-wave states, so to render the basis finite for numerical use, we must consider only states with $\\abs{k_n} < k_n$ and so we restrict $n$:\n",
        "\n",
        "$$\n",
        "  k_n = \\frac{2\\pi n}{L}\\Biggr|_{n=-\\Floor{\\frac{N}{2}}}^{\\Floor{\\frac{N-1}{2}}}.\n",
        "$$\n",
        "\n",
        "*The use of the floor function here, $\\floor{N/2}$ etc., ensures that for both even and odd $N$, the momenta correspond with those momenta used numerically by the FFT algorithm.*\n",
        "\n",
        "To project onto this restricted finite basis we may use:\n",
        "\n",
        "$$\n",
        "  \\op{P}_{N,L} = \\sum_{n=-\\Floor{\\frac{N}{2}}}^{\\Floor{\\frac{N-1}{2}}} \\ket{k_n}\\bra{k_n}\n",
        "  \\equiv \\sum_{n}\\ket{k_n}\\bra{k_n}.\n",
        "$$\n",
        "\n",
        "*To simplify notations, we shall drop the explicit indices in the sum when they are clear from context.*\n",
        "\n",
        "With this restriction, we may restrict our attention to a finite set of $N$ points (abscissa) in position space on account of the [Nyquist-Shannon Sampling Theorem](https://en.wikipedia.org/wiki/Nyquist%E2%80%93Shannon_sampling_theorem):\n",
        "\n",
        "$$\n",
        "  x_n = n\\Delta |_{n=0}^{N-1}.\n",
        "$$\n",
        "\n",
        "To emphasize this, we may write our position-space eigenstates as projected delta-functions:\n",
        "\n",
        "$$\n",
        "  \\braket{x|x_n} = \\braket{x|\\op{P}_{N,L}|x_n} = \\sum_{m}\\braket{x|k_m}\\braket{k_m|x_n}\n",
        "  = \\frac{1}{L}\\sum_{m}e^{\\overbrace{\\I k_m(x-x_n)}^{2\\pi m\\I(x-x_n)/L}} = \\Delta(x-x_n)\\\\\n",
        "  \\Delta(x)= \\frac{1}{L}\\sum_{m=-\\Floor{\\frac{N}{2}}}^{\\Floor{\\frac{N-1}{2}}}\n",
        "  \\overbrace{\\left(e^{2\\pi\\I x/L}\\right)^m}^{Q^m}\n",
        "  = \\frac{Q^{N} - 1}{L(Q-1)}Q^{-\\Floor{\\frac{N}{2}}}\n",
        "  = \\frac{1}{L}\\frac{e^{2\\pi \\I N x/L} - 1}{e^{2\\pi\\I x/L}-1}e^{-2\\pi \\Floor{\\frac{N}{2}}\\I x/L}.\n",
        "$$\n",
        "\n",
        "The function $\\Delta(x)$ here is a periodic Sinc function with the following interesting properties:\n",
        "\n",
        "$$\n",
        "  \\Delta(0) = 1, \\qquad\n",
        "  \\Delta(x_n) = \\delta_{n0}\n",
        "  \n",
        "$$"
      ]
    },
    {
      "metadata": {
        "id": "tEOJMA9rrnNX",
        "colab_type": "code",
        "colab": {}
      },
      "cell_type": "code",
      "source": [
        "L = "
      ],
      "execution_count": 0,
      "outputs": []
    },
    {
      "metadata": {
        "id": "FmsrK0j5opis",
        "colab_type": "code",
        "colab": {
          "base_uri": "https://localhost:8080/",
          "height": 282
        },
        "outputId": "527449a3-20dd-43e6-ad90-f9548b93eb0e"
      },
      "cell_type": "code",
      "source": [
        "N = 32\n",
        "L = 10.0\n",
        "dx = L/N\n",
        "n = np.arange(N)\n",
        "m = n - int(np.floor(N/2))\n",
        "x = n*dx\n",
        "k = 2*np.pi * m/L\n",
        "\n",
        "X = np.linspace(0, L, 1000)\n",
        "def Delta(x):\n",
        "  return (np.exp(2*np.pi*N*1j*x/L) - 1)/(np.exp(2*np.pi*1j*x/L)-1)/L\n",
        "plt.plot(X, abs(Delta(X-x[16]))**2)\n",
        "plt.plot(x, abs(Delta(x-x[16]+1e-32))**2, 'o')"
      ],
      "execution_count": 40,
      "outputs": [
        {
          "output_type": "execute_result",
          "data": {
            "text/plain": [
              "[<matplotlib.lines.Line2D at 0x7fcbe8c75a90>]"
            ]
          },
          "metadata": {
            "tags": []
          },
          "execution_count": 40
        },
        {
          "output_type": "display_data",
          "data": {
            "image/png": "[encoded data removed]",
            "text/plain": [
              "<matplotlib.figure.Figure at 0x7fcbe8c75828>"
            ]
          },
          "metadata": {
            "tags": []
          }
        }
      ]
    },
    {
      "metadata": {
        "id": "RplxlXtlfG4J",
        "colab_type": "text"
      },
      "cell_type": "markdown",
      "source": [
        "In class we worked out the Fourier transform and its inverse for a function as follows:\n",
        "\n",
        "\\begin{gather}\n",
        "  \\tilde{f}_m = \\braket{k_m|f} = \\braket{k_m|\\op{1}|f}\n",
        "  = \\Delta\\sum_{n}\\braket{k_m|x_n}\\braket{x_n|f}\n",
        "  = \\overbrace{\n",
        "    \\Delta\\sum_{m}e^{-\\I k_m x_n}f_n\n",
        "  }^{\\int \\d{x}\\; e^{-\\I k x}f(x)}\n",
        "  ,\\tag{Fourier Transform}\\\\\n",
        "  f_n \\equiv f(x_n) = \\braket{x_n|f} = \\braket{x_n|\\op{1}|f}\n",
        "  = \\frac{1}{L}\\sum_{m}\\braket{x_n|k_m}\\braket{k_m|f}\n",
        "  = \\overbrace{\n",
        "    \\frac{1}{L}\\sum_{m}e^{\\I k_m x_n}\\tilde{f}_m\n",
        "  }^{\\int\\frac{\\d{k}}{(2\\pi)}\\; e^{\\I k x}\\tilde{f}_k}.\\tag{inverse Transform}\n",
        "\\end{gather}\n",
        "\n",
        "These normalizations are useful in order to connect with the continuum limit (shown on the far right):\n",
        "\n",
        "\\begin{align}\n",
        "  \\text{Discrete}\n",
        "  &&&\\equiv&&\n",
        "  \\text{Continuum}\\\\\n",
        "  x_n = \\Delta n\\bigr|_{n=0}^{N-1}\n",
        "  &&&\\equiv&&\n",
        "  x\\in[0, L)\\\\\n",
        "  k_m = \\frac{2\\pi m}{L}\\Biggr|_{n=-\\Floor{\\frac{N}{2}}}^{\\Floor{\\frac{N-1}{2}}}\n",
        "  &&&\\equiv&&\n",
        "  k\\in[-k_\\max, k_\\max), \\qquad k_\\max = \\frac{N\\pi}{L},\\\\\n",
        "  \\sum_{n}=\\sum_{n=0}^{N-1}\n",
        "  &&&&&\n",
        "  \\int\\d{x} \\equiv \\int_{0}^{L}\\d{x},\\qquad\n",
        "  \\int\\frac{\\d{k}}{2\\pi} \\equiv \\int_{-k_\\max}^{k_\\max}\\frac{\\d{k}}{2\\pi},\\\\  \n",
        "  \\braket{x_m|x_n} = \\frac{\\delta_{mn}}{\\Delta}\n",
        "  &&&\\equiv&&\n",
        "  \\delta(x_m-x_n),\\\\\n",
        "  \\braket{k_m|k_n} = L\\delta_{mn}\n",
        "  &&&\\equiv&&\n",
        "  (2\\pi)\\delta(k_m-k_n),\\\\\n",
        "  \\op{1} = \\Delta\\sum_{n} \\ket{x_n}\\bra{x_n}\n",
        "  &&&\\equiv&&\n",
        "  \\int\\d{x}\\; \\ket{x}\\bra{x},\\\\\n",
        "  \\op{1} = \\frac{1}{L}\\sum_{n} \\ket{k_n}\\bra{k_n}\n",
        "  &&&\\equiv&&\n",
        "  \\int \\frac{\\d{k}}{2\\pi}\\ket{k}\\bra{k}.\n",
        "\\end{align}"
      ]
    },
    {
      "metadata": {
        "id": "GV1UZ4Y4hBWv",
        "colab_type": "text"
      },
      "cell_type": "markdown",
      "source": [
        "### Numerical Normalization\n",
        "\n",
        "For numerical work, it is convenient to change the conventions slightly so that $\\braket{x_m|x_n} = \\braket{k_m|k_n} = N\\delta_{mn}$.  Here are the corresponding conventions, which basically amount to effecting the following substitutions into the previous equations:\n",
        "\n",
        "$$\n",
        "  \\ket{x_n} \\rightarrow \\frac{\\ket{x_n}}{\\sqrt{\\Delta}}, \\qquad\n",
        "  \\ket{k_m} \\rightarrow \\sqrt{\\Delta}\\ket{k_m}, \\\\\n",
        "  \\op{1} = \\sum_{n} \\ket{x_n}\\bra{x_n} = \\frac{1}{N}\\sum_{n} \\ket{k_n}\\bra{k_n}, \\qquad\n",
        "  \\braket{x_n|k_m} = e^{\\I k_mx_n}, \\qquad\n",
        "$$\n"
      ]
    },
    {
      "metadata": {
        "id": "R--87Ng-qdft",
        "colab_type": "text"
      },
      "cell_type": "markdown",
      "source": [
        "### Alternative Normalization\n",
        "\n",
        "An alternative normalization is to make $\\braket{x_m|x_n} = \\braket{k_m|k_n} = \\delta_{mn}$.  This makes the Fourier transform matrix $U_{mn} = \\braket{k_m|x_n}$ manifestly unitary, but does not correspond with common implementations of the Fourier transform via the FFT algorithm:\n",
        "\n",
        "$$\n",
        "  \\ket{x_n} \\rightarrow \\frac{\\ket{x_n}}{\\sqrt{\\Delta}}, \\qquad\n",
        "  \\ket{k_m} \\rightarrow \\sqrt{L}\\ket{k_m}, \\\\\n",
        "  \\op{1} = \\sum_{n} \\ket{x_n}\\bra{x_n} = \\sum_{n} \\ket{k_n}\\bra{k_n}, \\\\\n",
        "  \\braket{x_n|k_m} = \\frac{1}{\\sqrt{N}}e^{\\I k_mx_n}, \\qquad\n",
        "$$\n"
      ]
    },
    {
      "metadata": {
        "id": "DOGtx4ZoufOy",
        "colab_type": "text"
      },
      "cell_type": "markdown",
      "source": [
        "### Code\n",
        "\n",
        "In code, we use the Numerical Normalization and have:\n",
        "\n",
        "$$\n",
        "  \\texttt{dx}=\\Delta, \\qquad\n",
        "  \\texttt{dk}=\\frac{2\\pi}{L}, \\qquad\n",
        "$$\n",
        "\n"
      ]
    },
    {
      "metadata": {
        "id": "ua9JkGTpdbul",
        "colab_type": "code",
        "colab": {
          "base_uri": "https://localhost:8080/",
          "height": 34
        },
        "outputId": "841fcfbb-664a-4b45-d196-a9ca958e8935"
      },
      "cell_type": "code",
      "source": [
        "# This cell loads the plotting and numeric libraries\n",
        "# from matplotlib import pyplot as plt\n",
        "# import numpy as np\n",
        "%pylab inline --no-import-all"
      ],
      "execution_count": 1,
      "outputs": [
        {
          "output_type": "stream",
          "text": [
            "Populating the interactive namespace from numpy and matplotlib\n"
          ],
          "name": "stdout"
        }
      ]
    },
    {
      "metadata": {
        "id": "NsdyBkmAdqYb",
        "colab_type": "code",
        "colab": {}
      },
      "cell_type": "code",
      "source": [
        "N = 64             # Number of lattice points\n",
        "L = 20.0           # Box size\n",
        "dx = L/N           # Lattice spacing\n",
        "dk = 2*np.pi/L     # Momentum spacing\n",
        "ns = np.arange(N)  # Array of [0, 1, ..., N-1]\n",
        "xs = ns*dx         # Lattice points\n",
        "\n",
        "# The momentum ordering may seem a little peculiar but is chosen\n",
        "# for performance.  The ordering corresponds to setting\n",
        "# n = [0, 1, ..., N-1] but aliasing so that the higher momenta wrap\n",
        "# back into negative momentum states.  We show explicitly the formulation\n",
        "# below but rely on the FFT code to return the correct order in our work.\n",
        "ks = 2*np.pi * np.fft.fftfreq(N, dx)  # Momenta in the order computed by the FFT\n",
        "ks_ = dk * ((ns + N//2) % N - N//2)   # Explicit ordering for reference...\n",
        "assert np.allclose(ks, ks_)           # Check that we got it right!"
      ],
      "execution_count": 0,
      "outputs": []
    },
    {
      "metadata": {
        "id": "BDvZ23fAvM8x",
        "colab_type": "text"
      },
      "cell_type": "markdown",
      "source": [
        "Here we compute explicitly the matrix $\\op{U}$ which implements the FFT:\n",
        "\n",
        "$$\n",
        "  U_{mn} = e^{-\\I k_m x_n} = e^{-2\\pi\\I m n / N}.\n",
        "$$\n",
        "\n",
        "In our Numerical Normalization, this is not unitary and the inverse is:\n",
        "\n",
        "$$\n",
        "  \\mat{U}^{-1} = \\frac{1}{N}\\mat{U}^{\\dagger}, \\qquad\n",
        "  U^{-1}_{mn} = \\frac{1}{N}e^{\\I k_m x_n} = \\frac{1}{N}e^{-2\\pi\\I m n / N}.\n",
        "$$"
      ]
    },
    {
      "metadata": {
        "id": "Qk2fkTWfeOP8",
        "colab_type": "code",
        "colab": {}
      },
      "cell_type": "code",
      "source": [
        "U = np.exp(1j*ks[:,None]*xs[None,:])\n",
        "Uinv = U.conj().T/N\n",
        "assert np.allclose(Uinv.dot(U), np.eye(N))"
      ],
      "execution_count": 0,
      "outputs": []
    },
    {
      "metadata": {
        "id": "Kyokyb-C0_Cj",
        "colab_type": "text"
      },
      "cell_type": "markdown",
      "source": [
        "Here we examine a normalized Gaussian and some related integrals:\n",
        "\n",
        "$$\n",
        "  G(x) = \\frac{1}{\\sqrt{2\\pi} \\sigma}e^{-(x-L/2)^2/2\\sigma^2}, \\qquad\n",
        "  \\int \\d{x}\\;G(x) = 1, \\\\\n",
        "  \\int \\d{x}\\; e^{-\\alpha x^2} = \\sqrt{\\frac{\\pi}{\\alpha}}, \\qquad\n",
        "  \\int \\d{x}\\; e^{-\\alpha (x-\\bar{x})^2 + \\beta x}\n",
        "  =\n",
        "  \\int \\d{x}\\; e^{-\\alpha (x-\\bar{x}-x_0)^2 + 2\\alpha\\bar{x}x_0 + \\alpha x_0^2}\n",
        "  =\n",
        "  e^{\\beta^2/4\\alpha+ \\beta\\bar{x}}\\sqrt{\\frac{\\pi}{\\alpha}}, \\qquad\n",
        "  x_0 = \\frac{\\beta}{2\\alpha}, \\\\\n",
        "  \\int \\d{x}\\; G(x)e^{\\beta x} = e^{\\sigma^2\\beta^2/2}\n",
        "$$"
      ]
    },
    {
      "metadata": {
        "id": "PgZebJOgeTVi",
        "colab_type": "code",
        "colab": {
          "base_uri": "https://localhost:8080/",
          "height": 279
        },
        "outputId": "b4aa0565-d7de-49d6-c84b-f059f0731d86"
      },
      "cell_type": "code",
      "source": [
        "sigma = 2.0\n",
        "G = np.exp(-(xs-L/2)**2/2/sigma**2)/np.sqrt(2*np.pi)/sigma\n",
        "plt.plot(xs, G)\n",
        "plt.xlabel('$x$'); plt.ylabel('$G$')\n",
        "assert np.allclose(np.sum(G)*dx, 1)   # Check that it is normalized."
      ],
      "execution_count": 4,
      "outputs": [
        {
          "output_type": "display_data",
          "data": {
            "image/png": "[encoded data removed]",
            "text/plain": [
              "<matplotlib.figure.Figure at 0x7f167e809a90>"
            ]
          },
          "metadata": {
            "tags": []
          }
        }
      ]
    },
    {
      "metadata": {
        "id": "y-qLTK8X0578",
        "colab_type": "text"
      },
      "cell_type": "markdown",
      "source": [
        "Now we compute the Fourier transform of the Gaussian $G(x)$:\n",
        "\n",
        "$$\n",
        "  \\tilde{G}_k = \\braket{k|G} = \\int \\d{x}\\;\\braket{k|x}\\braket{x|G}\n",
        "  = \\int \\d{x}\\; e^{-\\I k x}G(x)\n",
        "  = e^{-\\sigma^2 k^2/2 - \\I k L/2}\n",
        "$$\n",
        "\n",
        "When using the Numerical Normalization, the factor of $\\d{x}$ in the integral is not included, so we must remove this when comparing:"
      ]
    },
    {
      "metadata": {
        "id": "64Lm1z9x0Xlu",
        "colab_type": "code",
        "colab": {
          "base_uri": "https://localhost:8080/",
          "height": 282
        },
        "outputId": "8b677e1a-720f-4710-c925-40c028e4b531"
      },
      "cell_type": "code",
      "source": [
        "# This makes the momenta ks ordered\n",
        "from numpy.fft import fftshift\n",
        "ks_ = fftshift(ks)\n",
        "Gk = np.fft.fft(G)\n",
        "assert np.allclose(U.dot(G), Gk)\n",
        "Gk_ = fftshift(Gk)\n",
        "Gk_exact_ = np.exp(-sigma**2*ks_**2/2-1j*L*ks_/2) / dx\n",
        "assert np.allclose(Gk_, Gk_exact_, rtol=1e-5, atol=1e-5)\n",
        "plt.plot(ks_, abs(Gk_))"
      ],
      "execution_count": 85,
      "outputs": [
        {
          "output_type": "execute_result",
          "data": {
            "text/plain": [
              "[<matplotlib.lines.Line2D at 0x7f66495bf080>]"
            ]
          },
          "metadata": {
            "tags": []
          },
          "execution_count": 85
        },
        {
          "output_type": "display_data",
          "data": {
            "image/png": "[encoded data removed]",
            "text/plain": [
              "<matplotlib.figure.Figure at 0x7f66496c4470>"
            ]
          },
          "metadata": {
            "tags": []
          }
        }
      ]
    },
    {
      "metadata": {
        "id": "AQLhr22p5kas",
        "colab_type": "text"
      },
      "cell_type": "markdown",
      "source": [
        "Finally, we check the example from class for half of a square wave in the box:\n",
        "\n",
        "$$\n",
        "  \\tilde{f}_n = \\braket{k_n|f} = \\int_0^{L} \\d{x}\\; \\braket{k_n|x}\\braket{x|f}\n",
        "  = \\int_0^{L/2} \\d{x}\\; e^{-\\I k_n x}\n",
        "  = \\frac{\\I}{k_n}\\overbrace{\n",
        "    \\left(e^{-\\I k_nL/2}-1\\right)\n",
        "  }^{e^{-\\I\\pi n}-1}\n",
        "  = \\begin{cases}\n",
        "   \\frac{L}{2}& k_n = 0,\\\\\n",
        "    0 & \\text{even } n,\\\\\n",
        "    \\frac{2}{\\I k_n} & \\text{odd } ,n\n",
        "  \\end{cases}\\\\\n",
        "  f(x) = \\frac{L}{2} + \\sum_{\\text{odd }n}\\frac{2e^{\\I k_n x}}{\\I k_n}.\n",
        "$$\n",
        "\n",
        "Again, to compare with the Numerical Normalization, we must remove the factor of $\\d{x}$ and include the factor of $N$ when performing the inverse FFT:\n",
        "\n",
        "$$\n",
        "  f_n = \\frac{\\frac{L}{2} +\\sum_{\\text{odd }n}\\frac{2e^{\\I k_n x}}{\\I k_n}}{N\\d{x}}\n",
        "   = \\frac{1}{2} +\\sum_{\\text{odd }n}\\frac{2e^{\\I k_n x}}{\\I k_n L}\n",
        "$$"
      ]
    },
    {
      "metadata": {
        "id": "DMb-VX_V91ll",
        "colab_type": "code",
        "colab": {
          "base_uri": "https://localhost:8080/",
          "height": 51
        },
        "outputId": "575ee167-a3e7-44f5-e7c6-64f3a27f7e00"
      },
      "cell_type": "code",
      "source": [
        "with np.errstate(invalid='ignore'):\n",
        "    fk_n = np.where(ns%2==0,\n",
        "                    0,\n",
        "                    np.divide(2, 1j*ks))\n",
        "fk_n[0] = L/2\n",
        "fk_n /= dx"
      ],
      "execution_count": 173,
      "outputs": [
        {
          "output_type": "stream",
          "text": [
            "/usr/local/lib/python3.6/dist-packages/ipykernel_launcher.py:4: RuntimeWarning: divide by zero encountered in true_divide\n",
            "  after removing the cwd from sys.path.\n"
          ],
          "name": "stderr"
        }
      ]
    },
    {
      "metadata": {
        "id": "SsiECYTb-_g9",
        "colab_type": "code",
        "colab": {
          "base_uri": "https://localhost:8080/",
          "height": 336
        },
        "outputId": "a993a144-bfc7-437e-bc02-90469e7c24e9"
      },
      "cell_type": "code",
      "source": [
        "plt.plot(xs, np.fft.ifft(fk_n))\n",
        "plt.plot(xs, np.exp(1j*ks[None, :]*xs[:,None]).dot(fk_n)/N)"
      ],
      "execution_count": 174,
      "outputs": [
        {
          "output_type": "stream",
          "text": [
            "/usr/local/lib/python3.6/dist-packages/numpy/core/numeric.py:492: ComplexWarning: Casting complex values to real discards the imaginary part\n",
            "  return array(a, dtype, copy=False, order=order)\n"
          ],
          "name": "stderr"
        },
        {
          "output_type": "execute_result",
          "data": {
            "text/plain": [
              "[<matplotlib.lines.Line2D at 0x7f6646d8db38>]"
            ]
          },
          "metadata": {
            "tags": []
          },
          "execution_count": 174
        },
        {
          "output_type": "display_data",
          "data": {
            "image/png": "[encoded data removed]",
            "text/plain": [
              "<matplotlib.figure.Figure at 0x7f6646d8deb8>"
            ]
          },
          "metadata": {
            "tags": []
          }
        }
      ]
    },
    {
      "metadata": {
        "id": "_dhCptkNAOAD",
        "colab_type": "code",
        "colab": {}
      },
      "cell_type": "code",
      "source": [
        ""
      ],
      "execution_count": 0,
      "outputs": []
    }
  ]
}