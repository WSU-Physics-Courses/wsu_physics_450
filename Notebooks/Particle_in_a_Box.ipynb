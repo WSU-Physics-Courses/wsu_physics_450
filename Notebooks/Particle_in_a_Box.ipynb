{
  "nbformat": 4,
  "nbformat_minor": 0,
  "metadata": {
    "colab": {
      "name": "Particle in a Box.ipynb",
      "version": "0.3.2",
      "provenance": [],
      "collapsed_sections": [],
      "include_colab_link": true
    },
    "kernelspec": {
      "name": "python3",
      "display_name": "Python 3"
    }
  },
  "cells": [
    {
      "cell_type": "markdown",
      "metadata": {
        "id": "view-in-github",
        "colab_type": "text"
      },
      "source": [
        "[View in Colaboratory](https://colab.research.google.com/github/mforbes/wsu_physics_450/blob/master/Notebooks/Particle_in_a_Box.ipynb)"
      ]
    },
    {
      "metadata": {
        "id": "JktG6tIqB1uT",
        "colab_type": "text"
      },
      "cell_type": "markdown",
      "source": [
        "# Particle in a Box\n",
        "\n",
        "$$\n",
        "  \\newcommand{\\ket}[1]{\\lvert#1\\rangle}\n",
        "  \\newcommand{\\bra}[1]{\\langle#1\\rvert}\n",
        "  \\newcommand{\\braket}[1]{\\langle#1\\rangle}  \n",
        "  \\newcommand{\\Ket}[1]{\\left\\lvert#1\\right\\rangle}\n",
        "  \\newcommand{\\Bra}[1]{\\left\\langle#1\\right\\rvert}\n",
        "  \\newcommand{\\Braket}[1]{\\left\\langle#1\\right\\rangle}\n",
        "  \\newcommand{\\op}[1]{\\hat{\\boldsymbol{#1}}}\n",
        "  \\newcommand{\\mat}[1]{\\boldsymbol{#1}}\n",
        "  \\newcommand{\\I}{\\mathrm{i}}\n",
        "  \\newcommand{\\d}{\\mathrm{d}}\n",
        "  \\newcommand{\\Floor}[1]{\\left\\lfloor\\!#1\\!\\right\\rfloor}\n",
        "$$\n"
      ]
    },
    {
      "metadata": {
        "id": "aojOwOE_Fuc7",
        "colab_type": "text"
      },
      "cell_type": "markdown",
      "source": [
        "Here we solve the problem of a particle in a box as discussed in class.  The Schrödinger equation has the form\n",
        "\n",
        "$$\n",
        "  \\I \\hbar \\dot{\\psi}(x, t) = \\frac{-\\hbar^2\\psi''(x, t)}{2m} + V(x, t)\\psi(x, t).\n",
        "$$\n",
        "\n",
        "A particle in a box has the following potential:\n",
        "\n",
        "$$\n",
        "  V(x, t) = \\begin{cases}\n",
        "    0 & 0<x<L,\\\\\n",
        "    \\infty & \\text{otherwise}.\n",
        "  \\end{cases}\n",
        "$$\n",
        "\n",
        "The eigenstates are:\n",
        "\n",
        "$$\n",
        "  \\psi_n(x) = \\braket{x|n} = \\sqrt{\\frac{2}{L}}\\sin(k_n x), \\qquad\n",
        "  k_n = \\left.\\frac{\\pi n}{L}\\right|_{n=1}^{\\infty}, \\qquad\n",
        "  E_n = \\frac{\\hbar^2k_n^2}{2m}.\n",
        "$$\n",
        "\n",
        "These satisfy the boundary conditions that $\\psi(0)= \\psi(L) = 0$ and the SEQ in the interior."
      ]
    },
    {
      "metadata": {
        "id": "eaBw3NY3HZHk",
        "colab_type": "text"
      },
      "cell_type": "markdown",
      "source": [
        "## Sudden Expansion"
      ]
    },
    {
      "metadata": {
        "id": "dfVVhp0YHaxM",
        "colab_type": "text"
      },
      "cell_type": "markdown",
      "source": [
        "In class, we considered the problem of what happens to the ground state $\\ket{1}$ when the box is suddenly changed to have length $2L$.  To deal with this, we first express the eigenstates $\\ket{n'}$ of box of length $2L$:\n",
        "\n",
        "$$\n",
        "  \\braket{x|n'} = \\sqrt{\\frac{2}{2L}}\\sin(k_{n'} x) \n",
        "                         = \\sqrt{\\frac{1}{L}}\\sin(k_{n'} x), \\qquad\n",
        "  k_{n'} = \\left.\\frac{\\pi n'}{2L}\\right|_{n'=1}^{\\infty}, \\qquad\n",
        "  E_{n'} = \\frac{\\hbar^2k_{n'}^2}{2m} = \\frac{\\hbar^2 \\pi^2}{8mL^2}{n'}^2.\n",
        "$$\n",
        "\n",
        "The strategy is to express the initial state $\\ket{1}$ in terms of the new eigenstates $\\ket{n'}$ and then to follow the time evolution in the new eigenbasis of the Hamiltonian in the expanded box:\n",
        "\n",
        "$$\n",
        "  \\ket{1, t=0} = \\sum_{n'}\\ket{n'}\\braket{n'|1}\n",
        "                       = \\sum_{n'}\\ket{n'}\\int_{0}^{L} \\sqrt{\\frac{2}{L}}\\sqrt{\\frac{1}{L}}\\sin(k_{n'}x)\\sin(k_1x)\\d{x}\n",
        "                       = \\frac{\\sqrt{2}}{L}\\sum_{n'}\\ket{n'}\\int_{0}^{L} \\sin\\frac{\\pi n' x}{2L}\\sin\\frac{\\pi x}{L}\\d{x} = \\\\\n",
        "  = \\frac{\\sqrt{2}}{\\pi}\\sum_{n'}\\ket{n'} \\int_{0}^{\\pi} \\sin\\frac{n'\\theta}{2}\\sin\\theta\\d{\\theta}.\n",
        "$$\n",
        "\n",
        "The integral can be evaluated by converting to exponential form $\\sin\\theta = \\frac{e^{\\I\\theta}-e^{-\\I\\theta}}{2}$, and after some algebra, we have:\n",
        "\n",
        "$$\n",
        "  \\ket{1, t=0} = \\frac{\\sqrt{2}}{\\pi}\\sum_{n'}\\ket{n'}\\frac{4\\sin\\frac{n'\\pi}{2}}{4-{n'}^2}\n",
        "                       = \\frac{\\ket{2'}}{\\sqrt{2}} + \\frac{\\sqrt{2}}{\\pi}\\sum_{n' \\text{ odd}}^{\\infty}\\ket{n'}\\frac{4(-1)^{(n'-1)/2}}{4-{n'}^2}\\\\\n",
        "  = \\frac{\\ket{2'}}{\\sqrt{2}} \n",
        "      + \\frac{4\\sqrt{2}}{\\pi}\\left(\n",
        "      - \\frac{\\ket{1'}}{3\\times (-1)}\n",
        "     + \\frac{\\ket{3'}}{5\\times 1} \n",
        "     - \\frac{\\ket{5'}}{7\\times 3} \n",
        "     + \\frac{\\ket{7'}}{9\\times 5} \n",
        "     - \\frac{\\ket{9'}}{11\\times 7}\n",
        "     %+ \\frac{\\ket{11'}}{13\\times 9}\n",
        "     %- \\frac{\\ket{13'}}{15\\times 11}\n",
        "     + \\dots\n",
        "     \\right)\n",
        "$$\n",
        "\n",
        "All even terms vanish except for $n'=2$ which has the specified limiting value."
      ]
    },
    {
      "metadata": {
        "id": "ULzhbA5dPq1f",
        "colab_type": "code",
        "colab": {}
      },
      "cell_type": "code",
      "source": [
        "%pylab inline --no-import-all\n",
        "N_terms = 5000\n",
        "L = 1.0\n",
        "x = np.linspace(0, 2*L, 100)   # Abscissa for plotting\n",
        "n = np.arange(N_terms)         # Odd n'\n",
        "c_n = np.sqrt(2)/np.pi * np.where(n%2 == 0, 0, 4*(-1)**((n-1)/2)/(4-n**2))\n",
        "c_n[2] = 1./np.sqrt(2)\n",
        "\n",
        "assert np.allclose(sum(c_n**2), 1)  # Check normalization\n",
        "x_ = x[None, :]\n",
        "n_ = n[:, None]\n",
        "c_n_ = c_n[:, None]\n",
        "hbar = m = 1.0\n",
        "k_n_ = (np.pi*n_/2/L)\n",
        "E_n_ = (hbar*k_n_)**2/2/m\n",
        "\n",
        "def get_psi(t):\n",
        "  return ((np.exp(E_n_*t/1j/hbar)*c_n_) * np.sin(k_n_*x_)).sum(axis=0)\n",
        "\n",
        "plt.plot(x, abs(get_psi(t=0))**2)"
      ],
      "execution_count": 0,
      "outputs": []
    },
    {
      "metadata": {
        "id": "hmmBKLVcZSqA",
        "colab_type": "text"
      },
      "cell_type": "markdown",
      "source": [
        "Here is an animation based on [this discussion](https://medium.com/lambda-school-machine-learning/making-animations-work-in-google-colaboratory-new-home-for-ml-prototyping-c6147186ae75).  Use the sliders to adjust the number of times to display and maximum time.  Note: it can take quite a while for the results to generate if these are large."
      ]
    },
    {
      "metadata": {
        "id": "o9xOa8DpRuXl",
        "colab_type": "code",
        "colab": {}
      },
      "cell_type": "code",
      "source": [
        "#@title Particle in a Box { run: \"auto\", display-mode: \"form\" }\n",
        "from matplotlib import animation, rc\n",
        "from IPython.display import HTML, clear_output\n",
        "from matplotlib.patches import Rectangle\n",
        "\n",
        "tau = 16*m*L**2/hbar/np.pi\n",
        "\n",
        "# animate over some set of ts\n",
        "Nt = 128         #@param {type:\"slider\", min:0, max:1000, step:2}\n",
        "t_max_tau = 0.5  #@param {type:\"slider\", min:0.1, max:1.0, step:0.1}\n",
        "t_max = t_max_tau * tau\n",
        "ts = np.linspace(0, t_max, Nt+1)\n",
        "\n",
        "# First set up the figure, the axes, and the plot element\n",
        "fig, ax = plt.subplots()\n",
        "plt.close()\n",
        "ax.set_xlim((-0.1, 2*L+0.1))\n",
        "ax.set_ylim((0, 2.3))\n",
        "_rect_args = dict(width=0.1, height=2.3, hatch='\\\\', fill=False)\n",
        "ax.add_patch(Rectangle((-0.1,0), **_rect_args))\n",
        "p = ax.add_patch(Rectangle((L,0.), **_rect_args))\n",
        "\n",
        "line, = ax.plot([], [], lw=2)\n",
        "title = ax.set_title(r\"$t/\\tau=0$\")\n",
        "\n",
        "# initialization function: plot the background of each frame\n",
        "def init():\n",
        "    line.set_data(x, abs(get_psi(t=0))**2)\n",
        "    return (line,)\n",
        "  \n",
        "# animation function: this is called sequentially\n",
        "def animate(i):\n",
        "    t = ts[i] \n",
        "    # Update data\n",
        "    line.set_data(x, abs(get_psi(t=t))**2)\n",
        "    if i > 0:\n",
        "        # Move right wall after first step.\n",
        "        p.set_xy((2*L, 0))\n",
        "        title.set_text(r\"$t/\\tau={:.4f}$\".format(t/tau))\n",
        "    return (line,)\n",
        "\n",
        "anim = animation.FuncAnimation(\n",
        "    fig, animate, init_func=init, frames=len(ts), \n",
        "    interval=50, repeat=False, blit=True)\n",
        "plt.close('all')\n",
        "rc('animation', html='jshtml')\n",
        "anim\n"
      ],
      "execution_count": 0,
      "outputs": []
    },
    {
      "metadata": {
        "id": "TosYm_XyZzzM",
        "colab_type": "text"
      },
      "cell_type": "markdown",
      "source": [
        "## Comments and Questions\n",
        "\n",
        "Playing with the previous simulation, you might notice a couple of interesting aspects.\n",
        "\n",
        "* All of the dynamics comes from simply changing the relative phases $\\delta_{n'}(t)$ of the various terms in the sum:\n",
        "\n",
        "  $$\n",
        "    \\ket{1, t} = \\sum_{n'}e^{-\\I\\delta_{n'}(t)}\\ket{n'}c_{n'}, \\qquad\n",
        "    \\delta_{n'}(t) = \\frac{E_{n'}}{\\hbar}, \\qquad\n",
        "    c_{n'} = \\frac{4\\sin\\frac{n'\\pi}{2}}{4-{n'}^2}\\\\\n",
        "    \\psi(x, t) = \\sum_{n'}e^{-\\I\\delta_{n'}(t)}c_{n'}\\sin\\frac{\\pi n' x}{2L}.\n",
        "  $$\n",
        "  \n",
        "  There is no time-dependence in the actual basis states - all dynamics comes from interference between the various terms.\n",
        "  \n",
        "* How does the energy of the system change as the wall is moved?\n",
        "  \n",
        "* High-frequency ripples appear rapidly due to the sudden motion of a sharp boundary.  If we were to move the boundary more smoothly, there would be fewer such excitations.\n",
        "\n",
        "* There seem to be special times when the ripples in the system dissapear leaving a smooth curve.  This is because the eigen-energies can be expressed as:\n",
        "\n",
        "  $$\n",
        "    \\frac{E_{n'}}{\\hbar}t =\n",
        "    2\\pi {n'}^2 \\frac{t}{\\tau}, \\qquad\n",
        "    \\tau = \\frac{16mL^2}{\\hbar \\pi}.\n",
        "  $$\n",
        "  \n",
        "  Thus, when $t=\\tau$, all the phases are unity and we return to the original state.  At $t=\\tau/2$ the phases are real, but the signs of the terms change so that the wavefunction has moved symmetrically to the right side of the box, and at time $t\\in\\{\\tau/4, 3\\tau/4\\}$ the wavefunction symmetrically occupies the box with a node at $x=L$.  The states at $t\\in\\{\\tau/8, 3\\tau/8, 5\\tau/8, 7\\tau/8\\}$ also have nodes at $x=L$ and a smooth but asymmetric form.\n",
        "  \n",
        "  At times $n\\tau/16$, the density has sharp features.  These are related to similar artifacts such as plateaus (perfectly flat regions) seen when the box is expanded to $1.5L$ (see [C. Aslangul (2008): \"Surprises in the suddenly-expanded infinite well\"](http://dx.doi.org/10.1088/1751-8113/41/7/075301) [[arXiv:0709.1101](https://arxiv.org/abs/0709.1101)])."
      ]
    },
    {
      "metadata": {
        "id": "Z55Vz8AYbGLC",
        "colab_type": "code",
        "colab": {}
      },
      "cell_type": "code",
      "source": [
        "for n in range(0, 8):\n",
        "  plt.plot(x, abs(get_psi(n*tau/8))**2)"
      ],
      "execution_count": 0,
      "outputs": []
    },
    {
      "metadata": {
        "id": "tvVsfDJrsloo",
        "colab_type": "code",
        "colab": {}
      },
      "cell_type": "code",
      "source": [
        "for n in [3, 7, 11, 15]:\n",
        "  plt.plot(x, abs(get_psi(n*tau/16))**2)"
      ],
      "execution_count": 0,
      "outputs": []
    }
  ]
}